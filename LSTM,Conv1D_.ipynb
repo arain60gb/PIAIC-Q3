{
  "nbformat": 4,
  "nbformat_minor": 0,
  "metadata": {
    "kernelspec": {
      "display_name": "Python 3",
      "language": "python",
      "name": "python3"
    },
    "language_info": {
      "codemirror_mode": {
        "name": "ipython",
        "version": 3
      },
      "file_extension": ".py",
      "mimetype": "text/x-python",
      "name": "python",
      "nbconvert_exporter": "python",
      "pygments_lexer": "ipython3",
      "version": "3.8.5"
    },
    "colab": {
      "name": "LSTM,Conv1D .ipynb",
      "provenance": [],
      "collapsed_sections": []
    },
    "accelerator": "GPU"
  },
  "cells": [
    {
      "cell_type": "code",
      "metadata": {
        "id": "238raPlSDD-J"
      },
      "source": [
        "from tensorflow.keras.datasets import imdb\n",
        "import pandas as pd\n",
        "import numpy as np\n",
        "from tensorflow.keras.layers import LSTM, Activation, Dropout, Dense, Input, Conv1D, MaxPooling1D, GlobalMaxPooling1D\n",
        "from keras.layers.embeddings import Embedding\n",
        "from tensorflow.keras.models import Model\n",
        "import string\n",
        "import re\n",
        "from tensorflow.keras.preprocessing.text import Tokenizer\n",
        "from sklearn.preprocessing import LabelBinarizer\n",
        "from tensorflow.keras.preprocessing.sequence import pad_sequences\n",
        "import keras\n",
        "from sklearn.model_selection import train_test_split"
      ],
      "execution_count": 70,
      "outputs": []
    },
    {
      "cell_type": "code",
      "metadata": {
        "colab": {
          "base_uri": "https://localhost:8080/"
        },
        "id": "TPqggCgtDHe1",
        "outputId": "1047c74c-2b8e-4d2d-e98d-f73112dcda25"
      },
      "source": [
        "from google.colab import drive\n",
        "drive.mount('/content/drive')"
      ],
      "execution_count": 29,
      "outputs": [
        {
          "output_type": "stream",
          "name": "stdout",
          "text": [
            "Mounted at /content/drive\n"
          ]
        }
      ]
    },
    {
      "cell_type": "code",
      "metadata": {
        "id": "TtjbnrmnvLv8"
      },
      "source": [
        "data = pd.read_csv(\"/content/IMDB-Dataset.csv\")\n",
        "data['review'] = data['review'].str.lower()"
      ],
      "execution_count": 3,
      "outputs": []
    },
    {
      "cell_type": "code",
      "metadata": {
        "colab": {
          "base_uri": "https://localhost:8080/",
          "height": 419
        },
        "id": "u9Dt_rMbvRFk",
        "outputId": "539e7fd2-384a-4c23-8de4-816d6ca8bb0b"
      },
      "source": [
        "data"
      ],
      "execution_count": 4,
      "outputs": [
        {
          "output_type": "execute_result",
          "data": {
            "text/html": [
              "<div>\n",
              "<style scoped>\n",
              "    .dataframe tbody tr th:only-of-type {\n",
              "        vertical-align: middle;\n",
              "    }\n",
              "\n",
              "    .dataframe tbody tr th {\n",
              "        vertical-align: top;\n",
              "    }\n",
              "\n",
              "    .dataframe thead th {\n",
              "        text-align: right;\n",
              "    }\n",
              "</style>\n",
              "<table border=\"1\" class=\"dataframe\">\n",
              "  <thead>\n",
              "    <tr style=\"text-align: right;\">\n",
              "      <th></th>\n",
              "      <th>review</th>\n",
              "      <th>sentiment</th>\n",
              "    </tr>\n",
              "  </thead>\n",
              "  <tbody>\n",
              "    <tr>\n",
              "      <th>0</th>\n",
              "      <td>one of the other reviewers has mentioned that ...</td>\n",
              "      <td>positive</td>\n",
              "    </tr>\n",
              "    <tr>\n",
              "      <th>1</th>\n",
              "      <td>a wonderful little production. &lt;br /&gt;&lt;br /&gt;the...</td>\n",
              "      <td>positive</td>\n",
              "    </tr>\n",
              "    <tr>\n",
              "      <th>2</th>\n",
              "      <td>i thought this was a wonderful way to spend ti...</td>\n",
              "      <td>positive</td>\n",
              "    </tr>\n",
              "    <tr>\n",
              "      <th>3</th>\n",
              "      <td>basically there's a family where a little boy ...</td>\n",
              "      <td>negative</td>\n",
              "    </tr>\n",
              "    <tr>\n",
              "      <th>4</th>\n",
              "      <td>petter mattei's \"love in the time of money\" is...</td>\n",
              "      <td>positive</td>\n",
              "    </tr>\n",
              "    <tr>\n",
              "      <th>...</th>\n",
              "      <td>...</td>\n",
              "      <td>...</td>\n",
              "    </tr>\n",
              "    <tr>\n",
              "      <th>49995</th>\n",
              "      <td>i thought this movie did a down right good job...</td>\n",
              "      <td>positive</td>\n",
              "    </tr>\n",
              "    <tr>\n",
              "      <th>49996</th>\n",
              "      <td>bad plot, bad dialogue, bad acting, idiotic di...</td>\n",
              "      <td>negative</td>\n",
              "    </tr>\n",
              "    <tr>\n",
              "      <th>49997</th>\n",
              "      <td>i am a catholic taught in parochial elementary...</td>\n",
              "      <td>negative</td>\n",
              "    </tr>\n",
              "    <tr>\n",
              "      <th>49998</th>\n",
              "      <td>i'm going to have to disagree with the previou...</td>\n",
              "      <td>negative</td>\n",
              "    </tr>\n",
              "    <tr>\n",
              "      <th>49999</th>\n",
              "      <td>no one expects the star trek movies to be high...</td>\n",
              "      <td>negative</td>\n",
              "    </tr>\n",
              "  </tbody>\n",
              "</table>\n",
              "<p>50000 rows × 2 columns</p>\n",
              "</div>"
            ],
            "text/plain": [
              "                                                  review sentiment\n",
              "0      one of the other reviewers has mentioned that ...  positive\n",
              "1      a wonderful little production. <br /><br />the...  positive\n",
              "2      i thought this was a wonderful way to spend ti...  positive\n",
              "3      basically there's a family where a little boy ...  negative\n",
              "4      petter mattei's \"love in the time of money\" is...  positive\n",
              "...                                                  ...       ...\n",
              "49995  i thought this movie did a down right good job...  positive\n",
              "49996  bad plot, bad dialogue, bad acting, idiotic di...  negative\n",
              "49997  i am a catholic taught in parochial elementary...  negative\n",
              "49998  i'm going to have to disagree with the previou...  negative\n",
              "49999  no one expects the star trek movies to be high...  negative\n",
              "\n",
              "[50000 rows x 2 columns]"
            ]
          },
          "metadata": {},
          "execution_count": 4
        }
      ]
    },
    {
      "cell_type": "code",
      "metadata": {
        "id": "-rpfFLfP4TFs"
      },
      "source": [
        "stopwords = [ \"a\", \"about\", \"above\", \"after\", \"again\", \"against\", \"all\", \"am\", \"an\", \"and\", \"any\", \"are\", \"as\", \"at\", \"be\", \"because\", \n",
        "             \"been\", \"before\", \"being\", \"below\", \"between\", \"both\", \"but\", \"by\", \"could\", \"did\", \"do\", \"does\", \"doing\", \"down\", \"during\",\n",
        "             \"each\", \"few\", \"for\", \"from\", \"further\", \"had\", \"has\", \"have\", \"having\", \"he\", \"he'd\", \"he'll\", \"he's\", \"her\", \"here\", \n",
        "             \"here's\", \"hers\", \"herself\", \"him\", \"himself\", \"his\", \"how\", \"how's\", \"i\", \"i'd\", \"i'll\", \"i'm\", \"i've\", \"if\", \"in\", \"into\",\n",
        "             \"is\", \"it\", \"it's\", \"its\", \"itself\", \"let's\", \"me\", \"more\", \"most\", \"my\", \"myself\", \"nor\", \"of\", \"on\", \"once\", \"only\", \"or\",\n",
        "             \"other\", \"ought\", \"our\", \"ours\", \"ourselves\", \"out\", \"over\", \"own\", \"same\", \"she\", \"she'd\", \"she'll\", \"she's\", \"should\", \n",
        "             \"so\", \"some\", \"such\", \"than\", \"that\", \"that's\", \"the\", \"their\", \"theirs\", \"them\", \"themselves\", \"then\", \"there\", \"there's\",\n",
        "             \"these\", \"they\", \"they'd\", \"they'll\", \"they're\", \"they've\", \"this\", \"those\", \"through\", \"to\", \"too\", \"under\", \"until\", \"up\",\n",
        "             \"very\", \"was\", \"we\", \"we'd\", \"we'll\", \"we're\", \"we've\", \"were\", \"what\", \"what's\", \"when\", \"when's\", \"where\", \"where's\",\n",
        "             \"which\", \"while\", \"who\", \"who's\", \"whom\", \"why\", \"why's\", \"with\", \"would\", \"you\", \"you'd\", \"you'll\", \"you're\", \"you've\",\n",
        "             \"your\", \"yours\", \"yourself\", \"yourselves\" ]"
      ],
      "execution_count": 6,
      "outputs": []
    },
    {
      "cell_type": "code",
      "metadata": {
        "id": "gPiwiOTj_NSr"
      },
      "source": [
        "def remove_stopwords(data):\n",
        "  data['review without stopwords'] = data['review'].apply(lambda x : ' '.join([word for word in x.split() if word not in (stopwords)]))\n",
        "  return data\n",
        "\n",
        "def remove_tags(string):\n",
        "    result = re.sub('<.*?>','',string)\n",
        "    return result"
      ],
      "execution_count": 7,
      "outputs": []
    },
    {
      "cell_type": "code",
      "metadata": {
        "id": "Ksb8lsAP_ay8"
      },
      "source": [
        "data_without_stopwords = remove_stopwords(data)\n",
        "data_without_stopwords['clean_review']= data_without_stopwords['review without stopwords'].apply(lambda cw : remove_tags(cw))\n",
        "data_without_stopwords['clean_review'] = data_without_stopwords['clean_review'].str.replace('[{}]'.format(string.punctuation), ' ')"
      ],
      "execution_count": 8,
      "outputs": []
    },
    {
      "cell_type": "code",
      "metadata": {
        "colab": {
          "base_uri": "https://localhost:8080/",
          "height": 204
        },
        "id": "9zmTpykC_d5v",
        "outputId": "5def2b53-faaa-473d-fd29-7c61a30285d5"
      },
      "source": [
        "data_without_stopwords.head()"
      ],
      "execution_count": 9,
      "outputs": [
        {
          "output_type": "execute_result",
          "data": {
            "text/html": [
              "<div>\n",
              "<style scoped>\n",
              "    .dataframe tbody tr th:only-of-type {\n",
              "        vertical-align: middle;\n",
              "    }\n",
              "\n",
              "    .dataframe tbody tr th {\n",
              "        vertical-align: top;\n",
              "    }\n",
              "\n",
              "    .dataframe thead th {\n",
              "        text-align: right;\n",
              "    }\n",
              "</style>\n",
              "<table border=\"1\" class=\"dataframe\">\n",
              "  <thead>\n",
              "    <tr style=\"text-align: right;\">\n",
              "      <th></th>\n",
              "      <th>review</th>\n",
              "      <th>sentiment</th>\n",
              "      <th>review without stopwords</th>\n",
              "      <th>clean_review</th>\n",
              "    </tr>\n",
              "  </thead>\n",
              "  <tbody>\n",
              "    <tr>\n",
              "      <th>0</th>\n",
              "      <td>one of the other reviewers has mentioned that ...</td>\n",
              "      <td>positive</td>\n",
              "      <td>one reviewers mentioned watching just 1 oz epi...</td>\n",
              "      <td>one reviewers mentioned watching just 1 oz epi...</td>\n",
              "    </tr>\n",
              "    <tr>\n",
              "      <th>1</th>\n",
              "      <td>a wonderful little production. &lt;br /&gt;&lt;br /&gt;the...</td>\n",
              "      <td>positive</td>\n",
              "      <td>wonderful little production. &lt;br /&gt;&lt;br /&gt;the f...</td>\n",
              "      <td>wonderful little production  the filming techn...</td>\n",
              "    </tr>\n",
              "    <tr>\n",
              "      <th>2</th>\n",
              "      <td>i thought this was a wonderful way to spend ti...</td>\n",
              "      <td>positive</td>\n",
              "      <td>thought wonderful way spend time hot summer we...</td>\n",
              "      <td>thought wonderful way spend time hot summer we...</td>\n",
              "    </tr>\n",
              "    <tr>\n",
              "      <th>3</th>\n",
              "      <td>basically there's a family where a little boy ...</td>\n",
              "      <td>negative</td>\n",
              "      <td>basically family little boy (jake) thinks zomb...</td>\n",
              "      <td>basically family little boy  jake  thinks zomb...</td>\n",
              "    </tr>\n",
              "    <tr>\n",
              "      <th>4</th>\n",
              "      <td>petter mattei's \"love in the time of money\" is...</td>\n",
              "      <td>positive</td>\n",
              "      <td>petter mattei's \"love time money\" visually stu...</td>\n",
              "      <td>petter mattei s  love time money  visually stu...</td>\n",
              "    </tr>\n",
              "  </tbody>\n",
              "</table>\n",
              "</div>"
            ],
            "text/plain": [
              "                                              review  ...                                       clean_review\n",
              "0  one of the other reviewers has mentioned that ...  ...  one reviewers mentioned watching just 1 oz epi...\n",
              "1  a wonderful little production. <br /><br />the...  ...  wonderful little production  the filming techn...\n",
              "2  i thought this was a wonderful way to spend ti...  ...  thought wonderful way spend time hot summer we...\n",
              "3  basically there's a family where a little boy ...  ...  basically family little boy  jake  thinks zomb...\n",
              "4  petter mattei's \"love in the time of money\" is...  ...  petter mattei s  love time money  visually stu...\n",
              "\n",
              "[5 rows x 4 columns]"
            ]
          },
          "metadata": {},
          "execution_count": 9
        }
      ]
    },
    {
      "cell_type": "code",
      "metadata": {
        "colab": {
          "base_uri": "https://localhost:8080/"
        },
        "id": "4uj5wJLW_iNd",
        "outputId": "3639b96d-366f-4777-856a-6ed6d820c49c"
      },
      "source": [
        "reviews = data_without_stopwords['clean_review']\n",
        "reviews"
      ],
      "execution_count": 10,
      "outputs": [
        {
          "output_type": "execute_result",
          "data": {
            "text/plain": [
              "0        one reviewers mentioned watching just 1 oz epi...\n",
              "1        wonderful little production  the filming techn...\n",
              "2        thought wonderful way spend time hot summer we...\n",
              "3        basically family little boy  jake  thinks zomb...\n",
              "4        petter mattei s  love time money  visually stu...\n",
              "                               ...                        \n",
              "49995    thought movie right good job  wasn t creative ...\n",
              "49996    bad plot  bad dialogue  bad acting  idiotic di...\n",
              "49997    catholic taught parochial elementary schools n...\n",
              "49998    going disagree previous comment side maltin on...\n",
              "49999    no one expects star trek movies high art  fans...\n",
              "Name: clean_review, Length: 50000, dtype: object"
            ]
          },
          "metadata": {},
          "execution_count": 10
        }
      ]
    },
    {
      "cell_type": "code",
      "metadata": {
        "id": "QPTTk-nb_s27"
      },
      "source": [
        "reviews_list = []\n",
        "for i in range(len(reviews)):\n",
        "  reviews_list.append(reviews[i])"
      ],
      "execution_count": 11,
      "outputs": []
    },
    {
      "cell_type": "code",
      "metadata": {
        "id": "2RgKR8Vd_x4q"
      },
      "source": [
        "sentiment = data_without_stopwords['sentiment']"
      ],
      "execution_count": 12,
      "outputs": []
    },
    {
      "cell_type": "code",
      "metadata": {
        "colab": {
          "base_uri": "https://localhost:8080/"
        },
        "id": "VxP2jlzz_1Nw",
        "outputId": "cc78ea67-1afa-403f-ad85-d2eec07ba4a7"
      },
      "source": [
        "data_without_stopwords['sentiment'].value_counts()"
      ],
      "execution_count": 17,
      "outputs": [
        {
          "output_type": "execute_result",
          "data": {
            "text/plain": [
              "positive    25000\n",
              "negative    25000\n",
              "Name: sentiment, dtype: int64"
            ]
          },
          "metadata": {},
          "execution_count": 17
        }
      ]
    },
    {
      "cell_type": "code",
      "metadata": {
        "colab": {
          "base_uri": "https://localhost:8080/"
        },
        "id": "2eya7OAm_2u3",
        "outputId": "accbb5d3-a057-4623-e885-4e135c8e2f23"
      },
      "source": [
        "y = np.array(list(map(lambda x: 1 if x==\"positive\" else 0, sentiment)))\n",
        "y"
      ],
      "execution_count": 19,
      "outputs": [
        {
          "output_type": "execute_result",
          "data": {
            "text/plain": [
              "array([1, 1, 1, ..., 0, 0, 0])"
            ]
          },
          "metadata": {},
          "execution_count": 19
        }
      ]
    },
    {
      "cell_type": "code",
      "metadata": {
        "id": "FhP37H29Aicu"
      },
      "source": [
        "X_train, X_test,Y_train, Y_test = train_test_split(reviews_list, y, test_size=0.2, random_state = 45)\n"
      ],
      "execution_count": 20,
      "outputs": []
    },
    {
      "cell_type": "code",
      "metadata": {
        "colab": {
          "base_uri": "https://localhost:8080/"
        },
        "id": "AdWX9ly1Aoyl",
        "outputId": "80623188-0566-402d-b5f6-9de456716f17"
      },
      "source": [
        "len(X_train)"
      ],
      "execution_count": 21,
      "outputs": [
        {
          "output_type": "execute_result",
          "data": {
            "text/plain": [
              "40000"
            ]
          },
          "metadata": {},
          "execution_count": 21
        }
      ]
    },
    {
      "cell_type": "code",
      "metadata": {
        "id": "KaQuolmNAtf4"
      },
      "source": [
        "tokenizer = Tokenizer(num_words=5000)\n",
        "tokenizer.fit_on_texts(X_train)"
      ],
      "execution_count": 22,
      "outputs": []
    },
    {
      "cell_type": "code",
      "metadata": {
        "colab": {
          "base_uri": "https://localhost:8080/"
        },
        "id": "oaK0WLSVAzX3",
        "outputId": "0ed0b443-fc31-4090-fbdd-524ce06fd0f7"
      },
      "source": [
        "words_to_index = tokenizer.word_index\n",
        "len(words_to_index)"
      ],
      "execution_count": 23,
      "outputs": [
        {
          "output_type": "execute_result",
          "data": {
            "text/plain": [
              "95419"
            ]
          },
          "metadata": {},
          "execution_count": 23
        }
      ]
    },
    {
      "cell_type": "code",
      "metadata": {
        "colab": {
          "base_uri": "https://localhost:8080/"
        },
        "id": "SjgwbR1wA6K0",
        "outputId": "09bf9bd1-f476-4ead-db44-f6c753d504c5"
      },
      "source": [
        "words_to_index"
      ],
      "execution_count": 24,
      "outputs": [
        {
          "output_type": "execute_result",
          "data": {
            "text/plain": [
              "{'movie': 1,\n",
              " 'film': 2,\n",
              " 's': 3,\n",
              " 't': 4,\n",
              " 'not': 5,\n",
              " 'one': 6,\n",
              " 'like': 7,\n",
              " 'just': 8,\n",
              " 'good': 9,\n",
              " 'it': 10,\n",
              " 'can': 11,\n",
              " 'the': 12,\n",
              " 'no': 13,\n",
              " 'time': 14,\n",
              " 'even': 15,\n",
              " 'really': 16,\n",
              " 'story': 17,\n",
              " 'see': 18,\n",
              " 'well': 19,\n",
              " 'much': 20,\n",
              " 'bad': 21,\n",
              " 'get': 22,\n",
              " 'great': 23,\n",
              " 'people': 24,\n",
              " 'will': 25,\n",
              " 'also': 26,\n",
              " 'first': 27,\n",
              " 'don': 28,\n",
              " 'made': 29,\n",
              " 'make': 30,\n",
              " 'way': 31,\n",
              " 'i': 32,\n",
              " 'movies': 33,\n",
              " 'characters': 34,\n",
              " 'think': 35,\n",
              " 'character': 36,\n",
              " 'watch': 37,\n",
              " 'films': 38,\n",
              " 'two': 39,\n",
              " 'many': 40,\n",
              " 'seen': 41,\n",
              " 'love': 42,\n",
              " 'plot': 43,\n",
              " 'acting': 44,\n",
              " 'never': 45,\n",
              " 'life': 46,\n",
              " 'best': 47,\n",
              " 'show': 48,\n",
              " 'know': 49,\n",
              " 'this': 50,\n",
              " 'little': 51,\n",
              " 'ever': 52,\n",
              " 'off': 53,\n",
              " 'man': 54,\n",
              " 'better': 55,\n",
              " 'end': 56,\n",
              " 'still': 57,\n",
              " 'scene': 58,\n",
              " 'say': 59,\n",
              " 'and': 60,\n",
              " 'scenes': 61,\n",
              " 'something': 62,\n",
              " 'go': 63,\n",
              " 'back': 64,\n",
              " 'real': 65,\n",
              " 'now': 66,\n",
              " 'thing': 67,\n",
              " 'watching': 68,\n",
              " 'actors': 69,\n",
              " 'director': 70,\n",
              " 'years': 71,\n",
              " 'funny': 72,\n",
              " 'didn': 73,\n",
              " 'though': 74,\n",
              " 'doesn': 75,\n",
              " 'old': 76,\n",
              " 'another': 77,\n",
              " 'work': 78,\n",
              " '10': 79,\n",
              " 'actually': 80,\n",
              " 'nothing': 81,\n",
              " 'makes': 82,\n",
              " 'look': 83,\n",
              " 'all': 84,\n",
              " 'find': 85,\n",
              " 'going': 86,\n",
              " 'new': 87,\n",
              " 'lot': 88,\n",
              " 'every': 89,\n",
              " 'part': 90,\n",
              " 'cast': 91,\n",
              " 'world': 92,\n",
              " 'that': 93,\n",
              " 'us': 94,\n",
              " 'things': 95,\n",
              " 'pretty': 96,\n",
              " 'horror': 97,\n",
              " 'quite': 98,\n",
              " 'want': 99,\n",
              " 'around': 100,\n",
              " 'seems': 101,\n",
              " 'however': 102,\n",
              " 'take': 103,\n",
              " 'young': 104,\n",
              " 'big': 105,\n",
              " 'fact': 106,\n",
              " 'got': 107,\n",
              " 'thought': 108,\n",
              " 'in': 109,\n",
              " 'long': 110,\n",
              " 'enough': 111,\n",
              " 'give': 112,\n",
              " 'may': 113,\n",
              " 'series': 114,\n",
              " 'comedy': 115,\n",
              " 'right': 116,\n",
              " 'must': 117,\n",
              " 'action': 118,\n",
              " 'music': 119,\n",
              " 'guy': 120,\n",
              " 'almost': 121,\n",
              " 'without': 122,\n",
              " 'always': 123,\n",
              " 'role': 124,\n",
              " 'times': 125,\n",
              " 'saw': 126,\n",
              " 'original': 127,\n",
              " 'come': 128,\n",
              " 'point': 129,\n",
              " 'isn': 130,\n",
              " 'gets': 131,\n",
              " 'interesting': 132,\n",
              " 'a': 133,\n",
              " 'is': 134,\n",
              " 'whole': 135,\n",
              " 'done': 136,\n",
              " 'least': 137,\n",
              " 'script': 138,\n",
              " 'far': 139,\n",
              " 'me': 140,\n",
              " 'bit': 141,\n",
              " '2': 142,\n",
              " 'anything': 143,\n",
              " 'feel': 144,\n",
              " 'minutes': 145,\n",
              " 'might': 146,\n",
              " 'family': 147,\n",
              " 'there': 148,\n",
              " 'making': 149,\n",
              " 'tv': 150,\n",
              " 'since': 151,\n",
              " 'last': 152,\n",
              " 'probably': 153,\n",
              " 'but': 154,\n",
              " 'kind': 155,\n",
              " 'away': 156,\n",
              " 'performance': 157,\n",
              " 'yet': 158,\n",
              " 'girl': 159,\n",
              " 'fun': 160,\n",
              " 'worst': 161,\n",
              " 'anyone': 162,\n",
              " 'woman': 163,\n",
              " 'sure': 164,\n",
              " 'hard': 165,\n",
              " 'rather': 166,\n",
              " 'day': 167,\n",
              " 'out': 168,\n",
              " 'found': 169,\n",
              " 'played': 170,\n",
              " 'on': 171,\n",
              " 'you': 172,\n",
              " 'them': 173,\n",
              " 'screen': 174,\n",
              " 'although': 175,\n",
              " 'looking': 176,\n",
              " 'especially': 177,\n",
              " 'believe': 178,\n",
              " 'him': 179,\n",
              " 'up': 180,\n",
              " 'so': 181,\n",
              " 'dvd': 182,\n",
              " 'trying': 183,\n",
              " 'everything': 184,\n",
              " 'course': 185,\n",
              " 'here': 186,\n",
              " 'set': 187,\n",
              " 'comes': 188,\n",
              " 'put': 189,\n",
              " 'ending': 190,\n",
              " 'maybe': 191,\n",
              " 'goes': 192,\n",
              " 'shows': 193,\n",
              " 'different': 194,\n",
              " 'worth': 195,\n",
              " 'place': 196,\n",
              " 'actor': 197,\n",
              " 'three': 198,\n",
              " 'book': 199,\n",
              " 'sense': 200,\n",
              " 'looks': 201,\n",
              " 'effects': 202,\n",
              " 'year': 203,\n",
              " 'someone': 204,\n",
              " 'money': 205,\n",
              " 'main': 206,\n",
              " 'american': 207,\n",
              " 'play': 208,\n",
              " 'true': 209,\n",
              " 'everyone': 210,\n",
              " 'watched': 211,\n",
              " 'reason': 212,\n",
              " 'job': 213,\n",
              " 'war': 214,\n",
              " 'wasn': 215,\n",
              " 'together': 216,\n",
              " 'again': 217,\n",
              " 'high': 218,\n",
              " 'plays': 219,\n",
              " 'said': 220,\n",
              " 'instead': 221,\n",
              " 'audience': 222,\n",
              " 'half': 223,\n",
              " 'later': 224,\n",
              " 'special': 225,\n",
              " '1': 226,\n",
              " 'takes': 227,\n",
              " 'night': 228,\n",
              " 'seeing': 229,\n",
              " 'beautiful': 230,\n",
              " 'john': 231,\n",
              " 'black': 232,\n",
              " 'seem': 233,\n",
              " 'excellent': 234,\n",
              " 'left': 235,\n",
              " 'idea': 236,\n",
              " 'shot': 237,\n",
              " 'wife': 238,\n",
              " 'version': 239,\n",
              " 'house': 240,\n",
              " 'else': 241,\n",
              " 'star': 242,\n",
              " 'mind': 243,\n",
              " 'fan': 244,\n",
              " 'father': 245,\n",
              " 'nice': 246,\n",
              " 'used': 247,\n",
              " 'death': 248,\n",
              " 'short': 249,\n",
              " 'simply': 250,\n",
              " 'completely': 251,\n",
              " 'poor': 252,\n",
              " 'budget': 253,\n",
              " 'men': 254,\n",
              " '3': 255,\n",
              " 'read': 256,\n",
              " 'second': 257,\n",
              " 'top': 258,\n",
              " 'less': 259,\n",
              " 'along': 260,\n",
              " 'hollywood': 261,\n",
              " 'let': 262,\n",
              " 'home': 263,\n",
              " 'kids': 264,\n",
              " 'line': 265,\n",
              " 'help': 266,\n",
              " 'either': 267,\n",
              " 'friends': 268,\n",
              " 'wrong': 269,\n",
              " 'dead': 270,\n",
              " 'enjoy': 271,\n",
              " 'boring': 272,\n",
              " 'school': 273,\n",
              " 'women': 274,\n",
              " 'camera': 275,\n",
              " 'need': 276,\n",
              " 'classic': 277,\n",
              " 'given': 278,\n",
              " 'try': 279,\n",
              " 'to': 280,\n",
              " 'use': 281,\n",
              " 'stupid': 282,\n",
              " 'production': 283,\n",
              " 'full': 284,\n",
              " 'low': 285,\n",
              " 'rest': 286,\n",
              " 'performances': 287,\n",
              " 'her': 288,\n",
              " 'as': 289,\n",
              " 'truly': 290,\n",
              " 'next': 291,\n",
              " 'couple': 292,\n",
              " 'start': 293,\n",
              " 'awful': 294,\n",
              " 'video': 295,\n",
              " 'too': 296,\n",
              " 'came': 297,\n",
              " 'sex': 298,\n",
              " 'recommend': 299,\n",
              " 'tell': 300,\n",
              " 'terrible': 301,\n",
              " 'getting': 302,\n",
              " 'name': 303,\n",
              " 'remember': 304,\n",
              " 'understand': 305,\n",
              " 'won': 306,\n",
              " 'perhaps': 307,\n",
              " 'mean': 308,\n",
              " 'moments': 309,\n",
              " 'mother': 310,\n",
              " 'person': 311,\n",
              " 'episode': 312,\n",
              " 'style': 313,\n",
              " 'small': 314,\n",
              " 'if': 315,\n",
              " 'playing': 316,\n",
              " 'keep': 317,\n",
              " 'definitely': 318,\n",
              " 'perfect': 319,\n",
              " 'others': 320,\n",
              " 'human': 321,\n",
              " 'wonderful': 322,\n",
              " 'face': 323,\n",
              " 'often': 324,\n",
              " 'early': 325,\n",
              " 'written': 326,\n",
              " 'head': 327,\n",
              " 'boy': 328,\n",
              " 'lines': 329,\n",
              " 'stars': 330,\n",
              " 'dialogue': 331,\n",
              " 'children': 332,\n",
              " 'couldn': 333,\n",
              " 'piece': 334,\n",
              " 'yes': 335,\n",
              " 'title': 336,\n",
              " 'finally': 337,\n",
              " 'laugh': 338,\n",
              " 'gives': 339,\n",
              " 'went': 340,\n",
              " 'case': 341,\n",
              " 'certainly': 342,\n",
              " 'absolutely': 343,\n",
              " 'live': 344,\n",
              " 'sort': 345,\n",
              " 'lost': 346,\n",
              " 'oh': 347,\n",
              " 'friend': 348,\n",
              " 'loved': 349,\n",
              " 'cinema': 350,\n",
              " 'entertaining': 351,\n",
              " 'worse': 352,\n",
              " 'become': 353,\n",
              " 'called': 354,\n",
              " 'hope': 355,\n",
              " 'picture': 356,\n",
              " 'for': 357,\n",
              " 'guys': 358,\n",
              " 'mr': 359,\n",
              " 'overall': 360,\n",
              " 'several': 361,\n",
              " 'felt': 362,\n",
              " 'liked': 363,\n",
              " 'drama': 364,\n",
              " 'what': 365,\n",
              " 'supposed': 366,\n",
              " 'based': 367,\n",
              " 'entire': 368,\n",
              " 'white': 369,\n",
              " 'problem': 370,\n",
              " 'beginning': 371,\n",
              " 'with': 372,\n",
              " '4': 373,\n",
              " 'fans': 374,\n",
              " 'waste': 375,\n",
              " 'humor': 376,\n",
              " 'totally': 377,\n",
              " 'care': 378,\n",
              " 'evil': 379,\n",
              " 'sound': 380,\n",
              " 'dark': 381,\n",
              " 'despite': 382,\n",
              " 'final': 383,\n",
              " 'seemed': 384,\n",
              " '5': 385,\n",
              " 'direction': 386,\n",
              " 'wanted': 387,\n",
              " 'example': 388,\n",
              " 'game': 389,\n",
              " 'already': 390,\n",
              " 'son': 391,\n",
              " 'lead': 392,\n",
              " 'who': 393,\n",
              " 'lives': 394,\n",
              " 'of': 395,\n",
              " 'becomes': 396,\n",
              " 'guess': 397,\n",
              " 'throughout': 398,\n",
              " 'michael': 399,\n",
              " 'turn': 400,\n",
              " 'killer': 401,\n",
              " 'quality': 402,\n",
              " 'unfortunately': 403,\n",
              " 'able': 404,\n",
              " 'side': 405,\n",
              " 'history': 406,\n",
              " 'over': 407,\n",
              " 'b': 408,\n",
              " 'fine': 409,\n",
              " 'days': 410,\n",
              " 'run': 411,\n",
              " 'writing': 412,\n",
              " 'viewer': 413,\n",
              " 'horrible': 414,\n",
              " 'god': 415,\n",
              " 'flick': 416,\n",
              " 'be': 417,\n",
              " 'child': 418,\n",
              " 'today': 419,\n",
              " 'wants': 420,\n",
              " 'heart': 421,\n",
              " 'close': 422,\n",
              " 'act': 423,\n",
              " 'town': 424,\n",
              " '\\x96': 425,\n",
              " 'or': 426,\n",
              " 'do': 427,\n",
              " 'kill': 428,\n",
              " 'past': 429,\n",
              " 'stuff': 430,\n",
              " 'amazing': 431,\n",
              " 'matter': 432,\n",
              " 'art': 433,\n",
              " 'works': 434,\n",
              " 'car': 435,\n",
              " 'kid': 436,\n",
              " 'favorite': 437,\n",
              " 'gave': 438,\n",
              " 'genre': 439,\n",
              " 'enjoyed': 440,\n",
              " 'etc': 441,\n",
              " 'hand': 442,\n",
              " 'eyes': 443,\n",
              " 'tries': 444,\n",
              " 'expect': 445,\n",
              " 'hour': 446,\n",
              " 'girls': 447,\n",
              " 'brilliant': 448,\n",
              " 'turns': 449,\n",
              " 'late': 450,\n",
              " 'soon': 451,\n",
              " 'behind': 452,\n",
              " 'parts': 453,\n",
              " 'sometimes': 454,\n",
              " 'directed': 455,\n",
              " 'killed': 456,\n",
              " 'highly': 457,\n",
              " 'actress': 458,\n",
              " 'obviously': 459,\n",
              " 'daughter': 460,\n",
              " 'thinking': 461,\n",
              " 'was': 462,\n",
              " 'says': 463,\n",
              " 'city': 464,\n",
              " 'type': 465,\n",
              " 'voice': 466,\n",
              " 'which': 467,\n",
              " 'then': 468,\n",
              " 'self': 469,\n",
              " 'group': 470,\n",
              " 'feeling': 471,\n",
              " 'decent': 472,\n",
              " 'starts': 473,\n",
              " 'experience': 474,\n",
              " 'writer': 475,\n",
              " 'heard': 476,\n",
              " 'took': 477,\n",
              " 'stop': 478,\n",
              " 'anyway': 479,\n",
              " 'known': 480,\n",
              " 'blood': 481,\n",
              " 'except': 482,\n",
              " 'slow': 483,\n",
              " 'happens': 484,\n",
              " 'moment': 485,\n",
              " 'fight': 486,\n",
              " 'coming': 487,\n",
              " 'involved': 488,\n",
              " 'police': 489,\n",
              " 'leave': 490,\n",
              " 'chance': 491,\n",
              " 'lack': 492,\n",
              " 'hell': 493,\n",
              " 'score': 494,\n",
              " 'cannot': 495,\n",
              " 'strong': 496,\n",
              " 'stories': 497,\n",
              " 'told': 498,\n",
              " 'crap': 499,\n",
              " 'extremely': 500,\n",
              " 'roles': 501,\n",
              " 'please': 502,\n",
              " 'wouldn': 503,\n",
              " 'wonder': 504,\n",
              " 'hilarious': 505,\n",
              " 'more': 506,\n",
              " 'hit': 507,\n",
              " 'including': 508,\n",
              " 'violence': 509,\n",
              " 'song': 510,\n",
              " 'happen': 511,\n",
              " 'hero': 512,\n",
              " 'obvious': 513,\n",
              " 'particularly': 514,\n",
              " 'cool': 515,\n",
              " 'living': 516,\n",
              " 'serious': 517,\n",
              " 'brother': 518,\n",
              " 'cut': 519,\n",
              " 'simple': 520,\n",
              " 'ok': 521,\n",
              " 'looked': 522,\n",
              " 'age': 523,\n",
              " 'complete': 524,\n",
              " 'ago': 525,\n",
              " 'reality': 526,\n",
              " 'attempt': 527,\n",
              " 'murder': 528,\n",
              " 'david': 529,\n",
              " 'shown': 530,\n",
              " 'english': 531,\n",
              " 'james': 532,\n",
              " 'happened': 533,\n",
              " 'taken': 534,\n",
              " 'husband': 535,\n",
              " 'gore': 536,\n",
              " 'save': 537,\n",
              " 'seriously': 538,\n",
              " 'jokes': 539,\n",
              " 'number': 540,\n",
              " 'across': 541,\n",
              " 'opening': 542,\n",
              " 'released': 543,\n",
              " 'none': 544,\n",
              " 'robert': 545,\n",
              " 'exactly': 546,\n",
              " 'career': 547,\n",
              " 'interest': 548,\n",
              " 'alone': 549,\n",
              " 'possible': 550,\n",
              " 'order': 551,\n",
              " 'talent': 552,\n",
              " 'running': 553,\n",
              " 'sad': 554,\n",
              " 'important': 555,\n",
              " 'annoying': 556,\n",
              " 'hours': 557,\n",
              " 'documentary': 558,\n",
              " 'saying': 559,\n",
              " 'd': 560,\n",
              " 'cinematography': 561,\n",
              " 'relationship': 562,\n",
              " 'wish': 563,\n",
              " 'usually': 564,\n",
              " 'shots': 565,\n",
              " 'whose': 566,\n",
              " 'taking': 567,\n",
              " 'huge': 568,\n",
              " 'room': 569,\n",
              " 'view': 570,\n",
              " 'started': 571,\n",
              " 'word': 572,\n",
              " 'light': 573,\n",
              " 'call': 574,\n",
              " 'mostly': 575,\n",
              " 'middle': 576,\n",
              " 'ones': 577,\n",
              " 'ridiculous': 578,\n",
              " 'other': 579,\n",
              " 'level': 580,\n",
              " 'power': 581,\n",
              " 'change': 582,\n",
              " 'words': 583,\n",
              " 'beyond': 584,\n",
              " 'four': 585,\n",
              " 'country': 586,\n",
              " 'silly': 587,\n",
              " 'scary': 588,\n",
              " 'ends': 589,\n",
              " 'opinion': 590,\n",
              " 'knows': 591,\n",
              " 'body': 592,\n",
              " 'turned': 593,\n",
              " 're': 594,\n",
              " 'novel': 595,\n",
              " 'happy': 596,\n",
              " 'usual': 597,\n",
              " 'single': 598,\n",
              " 'rating': 599,\n",
              " 'jack': 600,\n",
              " 'major': 601,\n",
              " 'apparently': 602,\n",
              " 'upon': 603,\n",
              " 'female': 604,\n",
              " 'knew': 605,\n",
              " 'non': 606,\n",
              " 'disappointed': 607,\n",
              " 'why': 608,\n",
              " 'talking': 609,\n",
              " 'modern': 610,\n",
              " 'somewhat': 611,\n",
              " 'attention': 612,\n",
              " 'television': 613,\n",
              " 'basically': 614,\n",
              " 'finds': 615,\n",
              " 'king': 616,\n",
              " 'cheap': 617,\n",
              " 'strange': 618,\n",
              " 'local': 619,\n",
              " 'due': 620,\n",
              " 'episodes': 621,\n",
              " 'team': 622,\n",
              " 'musical': 623,\n",
              " 'about': 624,\n",
              " 'earth': 625,\n",
              " 'miss': 626,\n",
              " 'thriller': 627,\n",
              " 'm': 628,\n",
              " '7': 629,\n",
              " 'problems': 630,\n",
              " 'british': 631,\n",
              " 'class': 632,\n",
              " 'five': 633,\n",
              " 'events': 634,\n",
              " 'aren': 635,\n",
              " 'moving': 636,\n",
              " 'sequence': 637,\n",
              " 'talk': 638,\n",
              " 'down': 639,\n",
              " 'clearly': 640,\n",
              " 'comic': 641,\n",
              " 'before': 642,\n",
              " 'add': 643,\n",
              " 'predictable': 644,\n",
              " 'die': 645,\n",
              " 'lots': 646,\n",
              " 'o': 647,\n",
              " 'space': 648,\n",
              " 'french': 649,\n",
              " 'tells': 650,\n",
              " 'review': 651,\n",
              " 'songs': 652,\n",
              " 'he': 653,\n",
              " 'straight': 654,\n",
              " 'entertainment': 655,\n",
              " 'hate': 656,\n",
              " '8': 657,\n",
              " 'whether': 658,\n",
              " 'ten': 659,\n",
              " 'enjoyable': 660,\n",
              " 'near': 661,\n",
              " 'romantic': 662,\n",
              " 'george': 663,\n",
              " 'rock': 664,\n",
              " 'fast': 665,\n",
              " 'giving': 666,\n",
              " 'bring': 667,\n",
              " 'clear': 668,\n",
              " 'appears': 669,\n",
              " 'easily': 670,\n",
              " 'haven': 671,\n",
              " 'sets': 672,\n",
              " 'sequel': 673,\n",
              " 'future': 674,\n",
              " 'soundtrack': 675,\n",
              " 'suspense': 676,\n",
              " 'message': 677,\n",
              " 'surprised': 678,\n",
              " 'mention': 679,\n",
              " 'falls': 680,\n",
              " 'dialog': 681,\n",
              " 'filmed': 682,\n",
              " 'eye': 683,\n",
              " 'similar': 684,\n",
              " 'within': 685,\n",
              " 'dull': 686,\n",
              " 'needs': 687,\n",
              " 'supporting': 688,\n",
              " 'parents': 689,\n",
              " 've': 690,\n",
              " 'monster': 691,\n",
              " 'release': 692,\n",
              " 'tried': 693,\n",
              " 'among': 694,\n",
              " 'ways': 695,\n",
              " 'certain': 696,\n",
              " 'easy': 697,\n",
              " 'nearly': 698,\n",
              " 'sorry': 699,\n",
              " 'working': 700,\n",
              " 'theater': 701,\n",
              " 'bunch': 702,\n",
              " 'sister': 703,\n",
              " 'did': 704,\n",
              " 'using': 705,\n",
              " 'showing': 706,\n",
              " 'theme': 707,\n",
              " 'storyline': 708,\n",
              " 'minute': 709,\n",
              " '9': 710,\n",
              " 'at': 711,\n",
              " 'gone': 712,\n",
              " 'tale': 713,\n",
              " 'lady': 714,\n",
              " 'stay': 715,\n",
              " 'fall': 716,\n",
              " 'effort': 717,\n",
              " 'comments': 718,\n",
              " 'stand': 719,\n",
              " 'feature': 720,\n",
              " 'subject': 721,\n",
              " 'realistic': 722,\n",
              " 'viewers': 723,\n",
              " 'doubt': 724,\n",
              " 'typical': 725,\n",
              " 'editing': 726,\n",
              " 'mystery': 727,\n",
              " 'oscar': 728,\n",
              " 'feels': 729,\n",
              " 'elements': 730,\n",
              " 'named': 731,\n",
              " 'dr': 732,\n",
              " 'crime': 733,\n",
              " 'imagine': 734,\n",
              " 'famous': 735,\n",
              " 'general': 736,\n",
              " 'buy': 737,\n",
              " 'fantastic': 738,\n",
              " 'dog': 739,\n",
              " 'okay': 740,\n",
              " 'richard': 741,\n",
              " 'check': 742,\n",
              " 'kept': 743,\n",
              " 'paul': 744,\n",
              " 'points': 745,\n",
              " 'follow': 746,\n",
              " 'peter': 747,\n",
              " 'greatest': 748,\n",
              " 'red': 749,\n",
              " 'avoid': 750,\n",
              " 'means': 751,\n",
              " 'rent': 752,\n",
              " 'deal': 753,\n",
              " 'material': 754,\n",
              " 'viewing': 755,\n",
              " 'believable': 756,\n",
              " 'forget': 757,\n",
              " 'brought': 758,\n",
              " 'weak': 759,\n",
              " 'somehow': 760,\n",
              " 'reviews': 761,\n",
              " 'figure': 762,\n",
              " 'tom': 763,\n",
              " 'begins': 764,\n",
              " 'leads': 765,\n",
              " 'form': 766,\n",
              " 'expected': 767,\n",
              " 'period': 768,\n",
              " 'sit': 769,\n",
              " 'hear': 770,\n",
              " 'wait': 771,\n",
              " 'doctor': 772,\n",
              " 'average': 773,\n",
              " 'situation': 774,\n",
              " 'imdb': 775,\n",
              " 'move': 776,\n",
              " 'actual': 777,\n",
              " 'lame': 778,\n",
              " 'surprise': 779,\n",
              " 'open': 780,\n",
              " '20': 781,\n",
              " 'sequences': 782,\n",
              " 'animation': 783,\n",
              " 'killing': 784,\n",
              " 'note': 785,\n",
              " 'whatever': 786,\n",
              " 'dance': 787,\n",
              " 'deep': 788,\n",
              " 'eventually': 789,\n",
              " 'fi': 790,\n",
              " 'york': 791,\n",
              " 'learn': 792,\n",
              " 'box': 793,\n",
              " 'sci': 794,\n",
              " 'decided': 795,\n",
              " 'america': 796,\n",
              " 'boys': 797,\n",
              " 'season': 798,\n",
              " 'indeed': 799,\n",
              " 'my': 800,\n",
              " 'atmosphere': 801,\n",
              " 'hot': 802,\n",
              " 'premise': 803,\n",
              " 'shame': 804,\n",
              " 'de': 805,\n",
              " 'memorable': 806,\n",
              " 'leaves': 807,\n",
              " 'poorly': 808,\n",
              " 'street': 809,\n",
              " 'difficult': 810,\n",
              " 'third': 811,\n",
              " 'are': 812,\n",
              " 'society': 813,\n",
              " 'free': 814,\n",
              " 'particular': 815,\n",
              " 'western': 816,\n",
              " 'truth': 817,\n",
              " 'crew': 818,\n",
              " 'e': 819,\n",
              " 'possibly': 820,\n",
              " 'credits': 821,\n",
              " 'romance': 822,\n",
              " 'needed': 823,\n",
              " 'begin': 824,\n",
              " 'otherwise': 825,\n",
              " 'write': 826,\n",
              " 'lee': 827,\n",
              " 'reading': 828,\n",
              " 'gay': 829,\n",
              " 'emotional': 830,\n",
              " 'acted': 831,\n",
              " 'became': 832,\n",
              " 'sexual': 833,\n",
              " 'question': 834,\n",
              " 'beauty': 835,\n",
              " 'perfectly': 836,\n",
              " 'forced': 837,\n",
              " 'meet': 838,\n",
              " 'masterpiece': 839,\n",
              " 'air': 840,\n",
              " 'male': 841,\n",
              " 'hands': 842,\n",
              " 'stage': 843,\n",
              " 'footage': 844,\n",
              " 'unless': 845,\n",
              " 'superb': 846,\n",
              " 'personal': 847,\n",
              " 'screenplay': 848,\n",
              " 'inside': 849,\n",
              " 'mark': 850,\n",
              " 'laughs': 851,\n",
              " 'effect': 852,\n",
              " 'forward': 853,\n",
              " 'meets': 854,\n",
              " 'writers': 855,\n",
              " 'island': 856,\n",
              " 'plus': 857,\n",
              " 'weird': 858,\n",
              " 'himself': 859,\n",
              " 'incredibly': 860,\n",
              " 'features': 861,\n",
              " 'comment': 862,\n",
              " '80': 863,\n",
              " 'result': 864,\n",
              " 'battle': 865,\n",
              " 'disney': 866,\n",
              " 'setting': 867,\n",
              " 'nature': 868,\n",
              " 'girlfriend': 869,\n",
              " 'japanese': 870,\n",
              " 'baby': 871,\n",
              " 'cheesy': 872,\n",
              " 'badly': 873,\n",
              " 'total': 874,\n",
              " 'quickly': 875,\n",
              " 'unique': 876,\n",
              " 'fire': 877,\n",
              " 'towards': 878,\n",
              " 'interested': 879,\n",
              " 'cop': 880,\n",
              " 'crazy': 881,\n",
              " 'previous': 882,\n",
              " 'background': 883,\n",
              " 'sounds': 884,\n",
              " 'directors': 885,\n",
              " 'copy': 886,\n",
              " 'dumb': 887,\n",
              " 'various': 888,\n",
              " 'water': 889,\n",
              " 'earlier': 890,\n",
              " 'rate': 891,\n",
              " 'gun': 892,\n",
              " 'worked': 893,\n",
              " 'following': 894,\n",
              " 'powerful': 895,\n",
              " 'keeps': 896,\n",
              " 'joke': 897,\n",
              " 'dramatic': 898,\n",
              " 'older': 899,\n",
              " 'appear': 900,\n",
              " 'realize': 901,\n",
              " 'pay': 902,\n",
              " 'directing': 903,\n",
              " 'joe': 904,\n",
              " 'era': 905,\n",
              " 'cover': 906,\n",
              " 'mess': 907,\n",
              " 'business': 908,\n",
              " 'zombie': 909,\n",
              " 'creepy': 910,\n",
              " '30': 911,\n",
              " 'ask': 912,\n",
              " 'front': 913,\n",
              " 'dream': 914,\n",
              " 'brings': 915,\n",
              " 'portrayed': 916,\n",
              " 'telling': 917,\n",
              " 'admit': 918,\n",
              " 'leading': 919,\n",
              " 'meant': 920,\n",
              " 'plenty': 921,\n",
              " 'they': 922,\n",
              " 'william': 923,\n",
              " 'wasted': 924,\n",
              " 'fairly': 925,\n",
              " 'match': 926,\n",
              " 'rich': 927,\n",
              " 'development': 928,\n",
              " 'political': 929,\n",
              " 'fails': 930,\n",
              " 'spent': 931,\n",
              " 'outside': 932,\n",
              " 'present': 933,\n",
              " 'reasons': 934,\n",
              " 'from': 935,\n",
              " 'apart': 936,\n",
              " 'agree': 937,\n",
              " 'german': 938,\n",
              " 'bill': 939,\n",
              " 'party': 940,\n",
              " 'manages': 941,\n",
              " 'success': 942,\n",
              " 'hardly': 943,\n",
              " 'when': 944,\n",
              " 'twist': 945,\n",
              " 'talented': 946,\n",
              " 'cartoon': 947,\n",
              " 'fighting': 948,\n",
              " 'while': 949,\n",
              " 'caught': 950,\n",
              " 'break': 951,\n",
              " 'attempts': 952,\n",
              " 'deserves': 953,\n",
              " 'recently': 954,\n",
              " 'c': 955,\n",
              " 'missing': 956,\n",
              " 'expecting': 957,\n",
              " 'ideas': 958,\n",
              " 'public': 959,\n",
              " 'ended': 960,\n",
              " 'fantasy': 961,\n",
              " 'villain': 962,\n",
              " 'we': 963,\n",
              " 'create': 964,\n",
              " 'secret': 965,\n",
              " 'remake': 966,\n",
              " 'clever': 967,\n",
              " 'itself': 968,\n",
              " 'office': 969,\n",
              " 'large': 970,\n",
              " 'married': 971,\n",
              " 'pure': 972,\n",
              " 'unlike': 973,\n",
              " 'italian': 974,\n",
              " 'missed': 975,\n",
              " 'potential': 976,\n",
              " 'produced': 977,\n",
              " 'return': 978,\n",
              " 'cute': 979,\n",
              " 'nudity': 980,\n",
              " 'laughing': 981,\n",
              " 'company': 982,\n",
              " 'century': 983,\n",
              " 'state': 984,\n",
              " 'escape': 985,\n",
              " 'members': 986,\n",
              " 'incredible': 987,\n",
              " 'pace': 988,\n",
              " 'waiting': 989,\n",
              " 'casting': 990,\n",
              " 'odd': 991,\n",
              " 'train': 992,\n",
              " '6': 993,\n",
              " 'spoilers': 994,\n",
              " 'sadly': 995,\n",
              " 'created': 996,\n",
              " 'visual': 997,\n",
              " 'list': 998,\n",
              " 'considering': 999,\n",
              " 'filmmakers': 1000,\n",
              " ...}"
            ]
          },
          "metadata": {},
          "execution_count": 24
        }
      ]
    },
    {
      "cell_type": "code",
      "metadata": {
        "id": "8IM9_OF7A8l_"
      },
      "source": [
        "def read_glove_vector(glove_vec):\n",
        "  with open(glove_vec, 'r', encoding='UTF-8') as f:\n",
        "    words = set()\n",
        "    word_to_vec_map = {}\n",
        "    for line in f:\n",
        "      w_line = line.split()\n",
        "      curr_word = w_line[0]\n",
        "      word_to_vec_map[curr_word] = np.array(w_line[1:], dtype=np.float64)\n",
        "  return word_to_vec_map"
      ],
      "execution_count": 30,
      "outputs": []
    },
    {
      "cell_type": "code",
      "metadata": {
        "id": "N-lSSXUHBGx4"
      },
      "source": [
        "word_to_vec_map = read_glove_vector('/content/drive/MyDrive/glove.6B.50d.txt')"
      ],
      "execution_count": 31,
      "outputs": []
    },
    {
      "cell_type": "code",
      "metadata": {
        "id": "_BcjGH-TCY--"
      },
      "source": [
        "maxLen = 150"
      ],
      "execution_count": 32,
      "outputs": []
    },
    {
      "cell_type": "code",
      "metadata": {
        "id": "a3Z9yPDmCcVQ"
      },
      "source": [
        "vocab_len = len(words_to_index)\n",
        "embed_vector_len = word_to_vec_map['moon'].shape[0]\n",
        "\n",
        "emb_matrix = np.zeros((vocab_len, embed_vector_len))\n",
        "\n",
        "for word, index in words_to_index.items():\n",
        "  embedding_vector = word_to_vec_map.get(word)\n",
        "  if embedding_vector is not None:\n",
        "    emb_matrix[index, :] = embedding_vector\n",
        "\n",
        "embedding_layer = Embedding(input_dim=vocab_len, output_dim=embed_vector_len, input_length=maxLen, weights = [emb_matrix], trainable=False)"
      ],
      "execution_count": 33,
      "outputs": []
    },
    {
      "cell_type": "code",
      "metadata": {
        "id": "kLVWCBKPCmIR"
      },
      "source": [
        "def imdb_rating(input_shape):\n",
        "\n",
        "  X_indices = Input(input_shape)\n",
        "\n",
        "  embeddings = embedding_layer(X_indices)\n",
        "\n",
        "  X = LSTM(128, return_sequences=True)(embeddings)\n",
        "\n",
        "  X = Dropout(0.6)(X)\n",
        "\n",
        "  X = LSTM(128, return_sequences=True)(X)\n",
        "\n",
        "  X = Dropout(0.6)(X)\n",
        "\n",
        "  X = LSTM(128)(X)\n",
        "\n",
        "  X = Dense(1, activation='sigmoid')(X)\n",
        "\n",
        "  model = Model(inputs=X_indices, outputs=X)\n",
        "\n",
        "  return model"
      ],
      "execution_count": 34,
      "outputs": []
    },
    {
      "cell_type": "code",
      "metadata": {
        "id": "eQW_2uhLDlFT"
      },
      "source": [
        "def conv1d_model(input_shape):\n",
        "\n",
        "  X_indices = Input(input_shape)\n",
        "\n",
        "  embeddings = embedding_layer(X_indices)\n",
        "\n",
        "  X = Conv1D(512,3,activation='relu')(embeddings)\n",
        "  \n",
        "  X = MaxPooling1D(3)(X)\n",
        "\n",
        "  X = Conv1D(256,3,activation='relu')(X)\n",
        "  \n",
        "  X = MaxPooling1D(3)(X)\n",
        "\n",
        "  X = Conv1D(256,3,activation='relu')(X)\n",
        "  X = Dropout(0.8)(X)\n",
        "  X = MaxPooling1D(3)(X)\n",
        "\n",
        "  X = GlobalMaxPooling1D()(X)\n",
        "\n",
        "  X = Dense(256, activation='relu')(X)\n",
        "  X = Dense(1, activation='sigmoid')(X)\n",
        "\n",
        "  model = Model(inputs=X_indices, outputs=X)\n",
        "\n",
        "  return model"
      ],
      "execution_count": 36,
      "outputs": []
    },
    {
      "cell_type": "code",
      "metadata": {
        "colab": {
          "base_uri": "https://localhost:8080/"
        },
        "id": "-WDExXOEDqFW",
        "outputId": "1eb56e3e-fe2d-4668-deb7-45b25ffd4bb9"
      },
      "source": [
        "model = imdb_rating((maxLen,))\n",
        "model.summary()"
      ],
      "execution_count": 37,
      "outputs": [
        {
          "output_type": "stream",
          "name": "stdout",
          "text": [
            "Model: \"model\"\n",
            "_________________________________________________________________\n",
            "Layer (type)                 Output Shape              Param #   \n",
            "=================================================================\n",
            "input_1 (InputLayer)         [(None, 150)]             0         \n",
            "_________________________________________________________________\n",
            "embedding (Embedding)        (None, 150, 50)           4770950   \n",
            "_________________________________________________________________\n",
            "lstm (LSTM)                  (None, 150, 128)          91648     \n",
            "_________________________________________________________________\n",
            "dropout (Dropout)            (None, 150, 128)          0         \n",
            "_________________________________________________________________\n",
            "lstm_1 (LSTM)                (None, 150, 128)          131584    \n",
            "_________________________________________________________________\n",
            "dropout_1 (Dropout)          (None, 150, 128)          0         \n",
            "_________________________________________________________________\n",
            "lstm_2 (LSTM)                (None, 128)               131584    \n",
            "_________________________________________________________________\n",
            "dense (Dense)                (None, 1)                 129       \n",
            "=================================================================\n",
            "Total params: 5,125,895\n",
            "Trainable params: 354,945\n",
            "Non-trainable params: 4,770,950\n",
            "_________________________________________________________________\n"
          ]
        }
      ]
    },
    {
      "cell_type": "code",
      "metadata": {
        "colab": {
          "base_uri": "https://localhost:8080/"
        },
        "id": "sjbA-f91DyU2",
        "outputId": "08514517-d2fc-40a9-ed16-3ea9e85588ae"
      },
      "source": [
        "model_1d = conv1d_model((maxLen,))\n",
        "model_1d.summary()"
      ],
      "execution_count": 38,
      "outputs": [
        {
          "output_type": "stream",
          "name": "stdout",
          "text": [
            "Model: \"model_1\"\n",
            "_________________________________________________________________\n",
            "Layer (type)                 Output Shape              Param #   \n",
            "=================================================================\n",
            "input_2 (InputLayer)         [(None, 150)]             0         \n",
            "_________________________________________________________________\n",
            "embedding (Embedding)        (None, 150, 50)           4770950   \n",
            "_________________________________________________________________\n",
            "conv1d (Conv1D)              (None, 148, 512)          77312     \n",
            "_________________________________________________________________\n",
            "max_pooling1d (MaxPooling1D) (None, 49, 512)           0         \n",
            "_________________________________________________________________\n",
            "conv1d_1 (Conv1D)            (None, 47, 256)           393472    \n",
            "_________________________________________________________________\n",
            "max_pooling1d_1 (MaxPooling1 (None, 15, 256)           0         \n",
            "_________________________________________________________________\n",
            "conv1d_2 (Conv1D)            (None, 13, 256)           196864    \n",
            "_________________________________________________________________\n",
            "dropout_2 (Dropout)          (None, 13, 256)           0         \n",
            "_________________________________________________________________\n",
            "max_pooling1d_2 (MaxPooling1 (None, 4, 256)            0         \n",
            "_________________________________________________________________\n",
            "global_max_pooling1d (Global (None, 256)               0         \n",
            "_________________________________________________________________\n",
            "dense_1 (Dense)              (None, 256)               65792     \n",
            "_________________________________________________________________\n",
            "dense_2 (Dense)              (None, 1)                 257       \n",
            "=================================================================\n",
            "Total params: 5,504,647\n",
            "Trainable params: 733,697\n",
            "Non-trainable params: 4,770,950\n",
            "_________________________________________________________________\n"
          ]
        }
      ]
    },
    {
      "cell_type": "code",
      "metadata": {
        "id": "ueknHFYYD9Nb"
      },
      "source": [
        "X_train_indices = tokenizer.texts_to_sequences(X_train)"
      ],
      "execution_count": 39,
      "outputs": []
    },
    {
      "cell_type": "code",
      "metadata": {
        "colab": {
          "base_uri": "https://localhost:8080/"
        },
        "id": "6TeaQ5B5ECTW",
        "outputId": "e90894b5-526b-408a-d067-db7834f95148"
      },
      "source": [
        "X_train_indices = pad_sequences(X_train_indices, maxlen=maxLen, padding='post')\n",
        "X_train_indices.shape"
      ],
      "execution_count": 40,
      "outputs": [
        {
          "output_type": "execute_result",
          "data": {
            "text/plain": [
              "(40000, 150)"
            ]
          },
          "metadata": {},
          "execution_count": 40
        }
      ]
    },
    {
      "cell_type": "code",
      "metadata": {
        "id": "efCwoHq8E0KA"
      },
      "source": [
        "import tensorflow as tf "
      ],
      "execution_count": 48,
      "outputs": []
    },
    {
      "cell_type": "code",
      "metadata": {
        "id": "S6On21T7EGWq"
      },
      "source": [
        "adam = tf.keras.optimizers.Adam(learning_rate = 0.0001)\n",
        "model_1d.compile(optimizer=adam, loss='binary_crossentropy', metrics=['accuracy'])"
      ],
      "execution_count": 49,
      "outputs": []
    },
    {
      "cell_type": "code",
      "metadata": {
        "colab": {
          "base_uri": "https://localhost:8080/"
        },
        "id": "-WvfBxikEKIv",
        "outputId": "551305cf-d608-4119-c67b-87eb34c9e676"
      },
      "source": [
        "model_1d.fit(X_train_indices, Y_train, batch_size=64, epochs=15)"
      ],
      "execution_count": 50,
      "outputs": [
        {
          "output_type": "stream",
          "name": "stdout",
          "text": [
            "Epoch 1/15\n",
            "625/625 [==============================] - 42s 19ms/step - loss: 0.5595 - accuracy: 0.7075\n",
            "Epoch 2/15\n",
            "625/625 [==============================] - 12s 19ms/step - loss: 0.4637 - accuracy: 0.7826\n",
            "Epoch 3/15\n",
            "625/625 [==============================] - 12s 19ms/step - loss: 0.4137 - accuracy: 0.8105\n",
            "Epoch 4/15\n",
            "625/625 [==============================] - 12s 19ms/step - loss: 0.3846 - accuracy: 0.8270\n",
            "Epoch 5/15\n",
            "625/625 [==============================] - 12s 19ms/step - loss: 0.3501 - accuracy: 0.8465\n",
            "Epoch 6/15\n",
            "625/625 [==============================] - 12s 19ms/step - loss: 0.3325 - accuracy: 0.8565\n",
            "Epoch 7/15\n",
            "625/625 [==============================] - 12s 19ms/step - loss: 0.3077 - accuracy: 0.8669\n",
            "Epoch 8/15\n",
            "625/625 [==============================] - 12s 19ms/step - loss: 0.2826 - accuracy: 0.8823\n",
            "Epoch 9/15\n",
            "625/625 [==============================] - 12s 19ms/step - loss: 0.2547 - accuracy: 0.8943\n",
            "Epoch 10/15\n",
            "625/625 [==============================] - 12s 19ms/step - loss: 0.2333 - accuracy: 0.9038\n",
            "Epoch 11/15\n",
            "625/625 [==============================] - 12s 19ms/step - loss: 0.1986 - accuracy: 0.9203\n",
            "Epoch 12/15\n",
            "625/625 [==============================] - 12s 19ms/step - loss: 0.1706 - accuracy: 0.9325\n",
            "Epoch 13/15\n",
            "625/625 [==============================] - 12s 19ms/step - loss: 0.1295 - accuracy: 0.9517\n",
            "Epoch 14/15\n",
            "625/625 [==============================] - 12s 19ms/step - loss: 0.0991 - accuracy: 0.9641\n",
            "Epoch 15/15\n",
            "625/625 [==============================] - 12s 19ms/step - loss: 0.0861 - accuracy: 0.9686\n"
          ]
        },
        {
          "output_type": "execute_result",
          "data": {
            "text/plain": [
              "<keras.callbacks.History at 0x7fd960199c10>"
            ]
          },
          "metadata": {},
          "execution_count": 50
        }
      ]
    },
    {
      "cell_type": "code",
      "metadata": {
        "id": "hgwz5oWvE9OQ"
      },
      "source": [
        "adam = tf.keras.optimizers.Adam(learning_rate = 0.0001)\n",
        "model.compile(optimizer=adam, loss='binary_crossentropy', metrics=['accuracy'])"
      ],
      "execution_count": 53,
      "outputs": []
    },
    {
      "cell_type": "code",
      "metadata": {
        "colab": {
          "base_uri": "https://localhost:8080/"
        },
        "id": "IB52EjZJFQ1q",
        "outputId": "10fe7294-b000-4502-a64d-345461ae9a86"
      },
      "source": [
        "model.fit(X_train_indices, Y_train, batch_size=64, epochs=15)"
      ],
      "execution_count": 54,
      "outputs": [
        {
          "output_type": "stream",
          "name": "stdout",
          "text": [
            "Epoch 1/15\n",
            "625/625 [==============================] - 71s 105ms/step - loss: 0.5733 - accuracy: 0.6888\n",
            "Epoch 2/15\n",
            "625/625 [==============================] - 62s 100ms/step - loss: 0.4847 - accuracy: 0.7696\n",
            "Epoch 3/15\n",
            "625/625 [==============================] - 63s 100ms/step - loss: 0.4503 - accuracy: 0.7901\n",
            "Epoch 4/15\n",
            "625/625 [==============================] - 62s 100ms/step - loss: 0.4256 - accuracy: 0.8035\n",
            "Epoch 5/15\n",
            "625/625 [==============================] - 63s 100ms/step - loss: 0.4029 - accuracy: 0.8173\n",
            "Epoch 6/15\n",
            "625/625 [==============================] - 62s 99ms/step - loss: 0.3868 - accuracy: 0.8260\n",
            "Epoch 7/15\n",
            "625/625 [==============================] - 61s 98ms/step - loss: 0.3813 - accuracy: 0.8300\n",
            "Epoch 8/15\n",
            "625/625 [==============================] - 61s 98ms/step - loss: 0.3703 - accuracy: 0.8353\n",
            "Epoch 9/15\n",
            "625/625 [==============================] - 61s 97ms/step - loss: 0.3628 - accuracy: 0.8400\n",
            "Epoch 10/15\n",
            "625/625 [==============================] - 61s 98ms/step - loss: 0.3605 - accuracy: 0.8418\n",
            "Epoch 11/15\n",
            "625/625 [==============================] - 61s 98ms/step - loss: 0.3516 - accuracy: 0.8460\n",
            "Epoch 12/15\n",
            "625/625 [==============================] - 61s 98ms/step - loss: 0.3491 - accuracy: 0.8475\n",
            "Epoch 13/15\n",
            "625/625 [==============================] - 60s 96ms/step - loss: 0.3446 - accuracy: 0.8493\n",
            "Epoch 14/15\n",
            "625/625 [==============================] - 60s 96ms/step - loss: 0.3445 - accuracy: 0.8506\n",
            "Epoch 15/15\n",
            "625/625 [==============================] - 60s 96ms/step - loss: 0.3364 - accuracy: 0.8545\n"
          ]
        },
        {
          "output_type": "execute_result",
          "data": {
            "text/plain": [
              "<keras.callbacks.History at 0x7fd8ebb51e50>"
            ]
          },
          "metadata": {},
          "execution_count": 54
        }
      ]
    },
    {
      "cell_type": "code",
      "metadata": {
        "id": "qMhGarjNFSJj"
      },
      "source": [
        "X_test_indices = tokenizer.texts_to_sequences(X_test)\n",
        "\n",
        "X_test_indices = pad_sequences(X_test_indices, maxlen=maxLen, padding='post')"
      ],
      "execution_count": 55,
      "outputs": []
    },
    {
      "cell_type": "code",
      "metadata": {
        "colab": {
          "base_uri": "https://localhost:8080/"
        },
        "id": "MsBZ6BFiFSE1",
        "outputId": "d8c56f76-6507-4ba4-915e-39de3bc6b5ab"
      },
      "source": [
        "model.evaluate(X_test_indices, Y_test)"
      ],
      "execution_count": 56,
      "outputs": [
        {
          "output_type": "stream",
          "name": "stdout",
          "text": [
            "313/313 [==============================] - 14s 42ms/step - loss: 0.3685 - accuracy: 0.8373\n"
          ]
        },
        {
          "output_type": "execute_result",
          "data": {
            "text/plain": [
              "[0.3684707581996918, 0.8373000025749207]"
            ]
          },
          "metadata": {},
          "execution_count": 56
        }
      ]
    },
    {
      "cell_type": "code",
      "metadata": {
        "colab": {
          "base_uri": "https://localhost:8080/"
        },
        "id": "Boq6W0jIFR_P",
        "outputId": "6c79f061-f246-40dd-b745-220c7577a601"
      },
      "source": [
        "model_1d.evaluate(X_test_indices, Y_test)"
      ],
      "execution_count": 57,
      "outputs": [
        {
          "output_type": "stream",
          "name": "stdout",
          "text": [
            "313/313 [==============================] - 2s 7ms/step - loss: 0.3805 - accuracy: 0.8298\n"
          ]
        },
        {
          "output_type": "execute_result",
          "data": {
            "text/plain": [
              "[0.3805393874645233, 0.829800009727478]"
            ]
          },
          "metadata": {},
          "execution_count": 57
        }
      ]
    },
    {
      "cell_type": "code",
      "metadata": {
        "id": "-lfzv4yLFR3n"
      },
      "source": [
        "preds = model_1d.predict(X_test_indices)"
      ],
      "execution_count": 58,
      "outputs": []
    },
    {
      "cell_type": "code",
      "metadata": {
        "colab": {
          "base_uri": "https://localhost:8080/",
          "height": 137
        },
        "id": "QFQtY_38FRp3",
        "outputId": "1e498ee4-7847-4687-db9c-3b44ab89592e"
      },
      "source": [
        "n = np.random.randint(0,9999)\n",
        "\n",
        "X_test[n]"
      ],
      "execution_count": 59,
      "outputs": [
        {
          "output_type": "execute_result",
          "data": {
            "application/vnd.google.colaboratory.intrinsic+json": {
              "type": "string"
            },
            "text/plain": [
              "'early fulci work director shows mainstream side well talent compelling storytelling reasonable elucidation genre  personally think unfairly maligned throughout career aesthete gore  pretty capable procedural surprised subtextually rich narrative shows distrust small minded small town mentality inefficiency police  well twisted ideals catholic church  last seemed cut film knees first released possibly given director another direction early on  comparative lack gore film shows urgent psychological imperative film prevailing  mystery  gore puppetry utilise put good use notably scene falsely accused murderer senselessly lynched mob men graveyard left dead show vile antiquated vigilantism  expertly choreographed modern tunes off diegetic radio another example final scene  which indeed awesome  strikingly handsome priest falls cliff puppet used markedly showed medium closeup accentuated demonic appearance evident ugliness  curiously  considering later works  fulci also invokes idea modernity seized upon hamlet holding anachronistic superstitions ignorance idea black magic just that  quaint idea supernatural evil never really ends manifesting voodoo dolls making witch nothing disturbed woman  another thing liked adds character layers making bourgeois city girl ambiguous figure   corrupter priest fears wards perhaps tellingly  himself  giallo lend becoming one fulci s personal substantive films  actually get fair influx ideas him '"
            ]
          },
          "metadata": {},
          "execution_count": 59
        }
      ]
    },
    {
      "cell_type": "code",
      "metadata": {
        "colab": {
          "base_uri": "https://localhost:8080/"
        },
        "id": "vBGSSKgwFkQO",
        "outputId": "432ad828-a5a5-492f-ebfd-bc983c161aa9"
      },
      "source": [
        "if preds[n] > 0.5:\n",
        "  print('predicted sentiment : positive')\n",
        "else: \n",
        "  print('precicted sentiment : negative')\n",
        "\n",
        "if (Y_test[n] == 1):\n",
        "  print('correct sentiment : positive')\n",
        "else:\n",
        "  print('correct sentiment : negative')"
      ],
      "execution_count": 60,
      "outputs": [
        {
          "output_type": "stream",
          "name": "stdout",
          "text": [
            "predicted sentiment : positive\n",
            "correct sentiment : positive\n"
          ]
        }
      ]
    },
    {
      "cell_type": "code",
      "metadata": {
        "colab": {
          "base_uri": "https://localhost:8080/"
        },
        "id": "RHiW4-SFFkN0",
        "outputId": "7472d966-7aac-4422-d1fa-a41e0d05457d"
      },
      "source": [
        "preds[n]"
      ],
      "execution_count": 61,
      "outputs": [
        {
          "output_type": "execute_result",
          "data": {
            "text/plain": [
              "array([0.9446634], dtype=float32)"
            ]
          },
          "metadata": {},
          "execution_count": 61
        }
      ]
    },
    {
      "cell_type": "code",
      "metadata": {
        "colab": {
          "base_uri": "https://localhost:8080/"
        },
        "id": "yLrjsXgPFkLG",
        "outputId": "4f60e227-bce8-4f4f-b69f-475bc71af022"
      },
      "source": [
        "Y_test[n]"
      ],
      "execution_count": 62,
      "outputs": [
        {
          "output_type": "execute_result",
          "data": {
            "text/plain": [
              "1"
            ]
          },
          "metadata": {},
          "execution_count": 62
        }
      ]
    },
    {
      "cell_type": "code",
      "metadata": {
        "id": "bsH8HqY1FkIO"
      },
      "source": [
        "model_1d.save_weights('/content/drive/My Drive/imdb_weights_con1vd.hdf5')\n"
      ],
      "execution_count": 63,
      "outputs": []
    },
    {
      "cell_type": "code",
      "metadata": {
        "id": "MQctRmMXFtUS"
      },
      "source": [
        "reviews_list_idx = tokenizer.texts_to_sequences(reviews_list)\n"
      ],
      "execution_count": 64,
      "outputs": []
    },
    {
      "cell_type": "code",
      "metadata": {
        "id": "fnUrtQuDFtRu"
      },
      "source": [
        "def add_score_predictions(data, reviews_list_idx):\n",
        "\n",
        "  data['sentiment score'] = 0\n",
        "\n",
        "  reviews_list_idx = pad_sequences(reviews_list_idx, maxlen=maxLen, padding='post')\n",
        "\n",
        "  review_preds = model.predict(reviews_list_idx)\n",
        "\n",
        "  data['sentiment score'] = review_preds\n",
        "\n",
        "  pred_sentiment = np.array(list(map(lambda x : 'positive' if x > 0.5 else 'negative',review_preds)))\n",
        "\n",
        "  data['predicted sentiment'] = 0\n",
        "\n",
        "  data['predicted sentiment'] = pred_sentiment\n",
        "\n",
        "  return data"
      ],
      "execution_count": 65,
      "outputs": []
    },
    {
      "cell_type": "code",
      "metadata": {
        "id": "VuCDqZM6FtOv"
      },
      "source": [
        "data = add_score_predictions(data, reviews_list_idx)"
      ],
      "execution_count": 66,
      "outputs": []
    },
    {
      "cell_type": "code",
      "metadata": {
        "colab": {
          "base_uri": "https://localhost:8080/",
          "height": 606
        },
        "id": "0YLtJFVSF0TW",
        "outputId": "14a9d179-7bc9-47c2-9b3f-4f861f264e4a"
      },
      "source": [
        "data"
      ],
      "execution_count": 67,
      "outputs": [
        {
          "output_type": "execute_result",
          "data": {
            "text/html": [
              "<div>\n",
              "<style scoped>\n",
              "    .dataframe tbody tr th:only-of-type {\n",
              "        vertical-align: middle;\n",
              "    }\n",
              "\n",
              "    .dataframe tbody tr th {\n",
              "        vertical-align: top;\n",
              "    }\n",
              "\n",
              "    .dataframe thead th {\n",
              "        text-align: right;\n",
              "    }\n",
              "</style>\n",
              "<table border=\"1\" class=\"dataframe\">\n",
              "  <thead>\n",
              "    <tr style=\"text-align: right;\">\n",
              "      <th></th>\n",
              "      <th>review</th>\n",
              "      <th>sentiment</th>\n",
              "      <th>review without stopwords</th>\n",
              "      <th>clean_review</th>\n",
              "      <th>sentiment score</th>\n",
              "      <th>predicted sentiment</th>\n",
              "    </tr>\n",
              "  </thead>\n",
              "  <tbody>\n",
              "    <tr>\n",
              "      <th>0</th>\n",
              "      <td>one of the other reviewers has mentioned that ...</td>\n",
              "      <td>positive</td>\n",
              "      <td>one reviewers mentioned watching just 1 oz epi...</td>\n",
              "      <td>one reviewers mentioned watching just 1 oz epi...</td>\n",
              "      <td>0.657835</td>\n",
              "      <td>positive</td>\n",
              "    </tr>\n",
              "    <tr>\n",
              "      <th>1</th>\n",
              "      <td>a wonderful little production. &lt;br /&gt;&lt;br /&gt;the...</td>\n",
              "      <td>positive</td>\n",
              "      <td>wonderful little production. &lt;br /&gt;&lt;br /&gt;the f...</td>\n",
              "      <td>wonderful little production  the filming techn...</td>\n",
              "      <td>0.989694</td>\n",
              "      <td>positive</td>\n",
              "    </tr>\n",
              "    <tr>\n",
              "      <th>2</th>\n",
              "      <td>i thought this was a wonderful way to spend ti...</td>\n",
              "      <td>positive</td>\n",
              "      <td>thought wonderful way spend time hot summer we...</td>\n",
              "      <td>thought wonderful way spend time hot summer we...</td>\n",
              "      <td>0.988200</td>\n",
              "      <td>positive</td>\n",
              "    </tr>\n",
              "    <tr>\n",
              "      <th>3</th>\n",
              "      <td>basically there's a family where a little boy ...</td>\n",
              "      <td>negative</td>\n",
              "      <td>basically family little boy (jake) thinks zomb...</td>\n",
              "      <td>basically family little boy  jake  thinks zomb...</td>\n",
              "      <td>0.012905</td>\n",
              "      <td>negative</td>\n",
              "    </tr>\n",
              "    <tr>\n",
              "      <th>4</th>\n",
              "      <td>petter mattei's \"love in the time of money\" is...</td>\n",
              "      <td>positive</td>\n",
              "      <td>petter mattei's \"love time money\" visually stu...</td>\n",
              "      <td>petter mattei s  love time money  visually stu...</td>\n",
              "      <td>0.990067</td>\n",
              "      <td>positive</td>\n",
              "    </tr>\n",
              "    <tr>\n",
              "      <th>...</th>\n",
              "      <td>...</td>\n",
              "      <td>...</td>\n",
              "      <td>...</td>\n",
              "      <td>...</td>\n",
              "      <td>...</td>\n",
              "      <td>...</td>\n",
              "    </tr>\n",
              "    <tr>\n",
              "      <th>49995</th>\n",
              "      <td>i thought this movie did a down right good job...</td>\n",
              "      <td>positive</td>\n",
              "      <td>thought movie right good job. wasn't creative ...</td>\n",
              "      <td>thought movie right good job  wasn t creative ...</td>\n",
              "      <td>0.954781</td>\n",
              "      <td>positive</td>\n",
              "    </tr>\n",
              "    <tr>\n",
              "      <th>49996</th>\n",
              "      <td>bad plot, bad dialogue, bad acting, idiotic di...</td>\n",
              "      <td>negative</td>\n",
              "      <td>bad plot, bad dialogue, bad acting, idiotic di...</td>\n",
              "      <td>bad plot  bad dialogue  bad acting  idiotic di...</td>\n",
              "      <td>0.002473</td>\n",
              "      <td>negative</td>\n",
              "    </tr>\n",
              "    <tr>\n",
              "      <th>49997</th>\n",
              "      <td>i am a catholic taught in parochial elementary...</td>\n",
              "      <td>negative</td>\n",
              "      <td>catholic taught parochial elementary schools n...</td>\n",
              "      <td>catholic taught parochial elementary schools n...</td>\n",
              "      <td>0.224869</td>\n",
              "      <td>negative</td>\n",
              "    </tr>\n",
              "    <tr>\n",
              "      <th>49998</th>\n",
              "      <td>i'm going to have to disagree with the previou...</td>\n",
              "      <td>negative</td>\n",
              "      <td>going disagree previous comment side maltin on...</td>\n",
              "      <td>going disagree previous comment side maltin on...</td>\n",
              "      <td>0.845549</td>\n",
              "      <td>positive</td>\n",
              "    </tr>\n",
              "    <tr>\n",
              "      <th>49999</th>\n",
              "      <td>no one expects the star trek movies to be high...</td>\n",
              "      <td>negative</td>\n",
              "      <td>no one expects star trek movies high art, fans...</td>\n",
              "      <td>no one expects star trek movies high art  fans...</td>\n",
              "      <td>0.038439</td>\n",
              "      <td>negative</td>\n",
              "    </tr>\n",
              "  </tbody>\n",
              "</table>\n",
              "<p>50000 rows × 6 columns</p>\n",
              "</div>"
            ],
            "text/plain": [
              "                                                  review  ... predicted sentiment\n",
              "0      one of the other reviewers has mentioned that ...  ...            positive\n",
              "1      a wonderful little production. <br /><br />the...  ...            positive\n",
              "2      i thought this was a wonderful way to spend ti...  ...            positive\n",
              "3      basically there's a family where a little boy ...  ...            negative\n",
              "4      petter mattei's \"love in the time of money\" is...  ...            positive\n",
              "...                                                  ...  ...                 ...\n",
              "49995  i thought this movie did a down right good job...  ...            positive\n",
              "49996  bad plot, bad dialogue, bad acting, idiotic di...  ...            negative\n",
              "49997  i am a catholic taught in parochial elementary...  ...            negative\n",
              "49998  i'm going to have to disagree with the previou...  ...            positive\n",
              "49999  no one expects the star trek movies to be high...  ...            negative\n",
              "\n",
              "[50000 rows x 6 columns]"
            ]
          },
          "metadata": {},
          "execution_count": 67
        }
      ]
    },
    {
      "cell_type": "code",
      "metadata": {
        "id": "wtUK1n2zKXuZ"
      },
      "source": [
        ""
      ],
      "execution_count": null,
      "outputs": []
    }
  ]
}